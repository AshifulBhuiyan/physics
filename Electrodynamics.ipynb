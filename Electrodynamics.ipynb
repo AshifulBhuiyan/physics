{
 "cells": [
  {
   "cell_type": "markdown",
   "metadata": {},
   "source": [
    "# Electrodynamics\n",
    "## Maxwell Equations Differential Form\n",
    "\n",
    "$$\n",
    "\\nabla \\cdot \\mathbf{E} = \\frac{\\rho}{\\epsilon_0} \\\\\n",
    "\\nabla \\cdot \\mathbf{B} = 0 \\\\\n",
    "\\nabla \\times \\mathbf{E} = -\\frac{\\partial \\mathbf{B}}{\\partial t} \\\\\n",
    "\\nabla \\times \\mathbf{B} = \\mu_0 \\mathbf{J} + \\mu_0 \\epsilon_0 \\frac{\\partial \\mathbf{E}}{\\partial t}\n",
    "$$\n",
    "\n",
    "## Maxwell Equations Integral Form\n",
    "$$\n",
    "\n",
    "\\oint_{\\partial V} \\mathbf{E} \\cdot d\\mathbf{l} = -\\frac{d}{dt} \\int_{V} \\mathbf{B} \\cdot d\\mathbf{A} \\\\\n",
    "\\oint_{\\partial V} \\mathbf{B} \\cdot d\\mathbf{l} = \\mu_0 \\int_{V} \\mathbf{J} \\cdot d\\mathbf{A} + \\mu_0 \\epsilon_0 \\frac{d}{dt} \\int_{V} \\mathbf{E} \\cdot d\\mathbf{A} \\\\\n",
    "\\oint_{\\partial V} \\mathbf{E} \\cdot d\\mathbf{A} = \\frac{1}{\\epsilon_0} \\int_{V} \\rho \\, dV \\\\\n",
    "\\oint_{\\partial V} \\mathbf{B} \\cdot d\\mathbf{A} = 0\n",
    "$$"
   ]
  },
  {
   "cell_type": "markdown",
   "metadata": {},
   "source": []
  }
 ],
 "metadata": {
  "kernelspec": {
   "display_name": "venv",
   "language": "python",
   "name": "python3"
  },
  "language_info": {
   "name": "python",
   "version": "3.10.12"
  }
 },
 "nbformat": 4,
 "nbformat_minor": 2
}
